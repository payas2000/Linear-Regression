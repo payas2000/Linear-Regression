{
 "cells": [
  {
   "cell_type": "code",
   "execution_count": 1,
   "id": "relative-intranet",
   "metadata": {},
   "outputs": [],
   "source": [
    "#import the libraries \n",
    "%matplotlib inline \n",
    "\n",
    "import numpy as np \n",
    "import matplotlib.pyplot as plt "
   ]
  },
  {
   "cell_type": "code",
   "execution_count": 8,
   "id": "extreme-start",
   "metadata": {},
   "outputs": [],
   "source": [
    "#generating the data set \n",
    "def generate_examples(num = 1000):\n",
    "    W = [1.0, -3.0]\n",
    "    b = 1.0\n",
    "    \n",
    "    W = np.reshape(W, (2,1))\n",
    "    \n",
    "    X = np.random.randn(num, 2)\n",
    "    \n",
    "    y = b + np.dot(X, W) + np.random.randn()\n",
    "     \n",
    "    y = np.reshape(y, (num, 1))\n",
    "    \n",
    "    return X, y"
   ]
  },
  {
   "cell_type": "code",
   "execution_count": 9,
   "id": "scheduled-seeker",
   "metadata": {},
   "outputs": [],
   "source": [
    "X, y = generate_examples()"
   ]
  },
  {
   "cell_type": "code",
   "execution_count": 10,
   "id": "worse-spectrum",
   "metadata": {},
   "outputs": [
    {
     "name": "stdout",
     "output_type": "stream",
     "text": [
      "(1000, 2) (1000, 1)\n"
     ]
    }
   ],
   "source": [
    "print(X.shape, y.shape)"
   ]
  },
  {
   "cell_type": "code",
   "execution_count": 11,
   "id": "logical-migration",
   "metadata": {},
   "outputs": [
    {
     "name": "stdout",
     "output_type": "stream",
     "text": [
      "[-1.56892202  0.96880454] [-2.62941222]\n"
     ]
    }
   ],
   "source": [
    "print(X[0], y[0])"
   ]
  },
  {
   "cell_type": "code",
   "execution_count": 12,
   "id": "automated-supervision",
   "metadata": {},
   "outputs": [],
   "source": [
    "#create the model class\n",
    "class Model:\n",
    "    def __init__(self, num_features):\n",
    "        self.num_features = num_features\n",
    "        self.W = np.random.randn(num_features, 1)\n",
    "        self.b = np.random.randn()"
   ]
  },
  {
   "cell_type": "code",
   "execution_count": 13,
   "id": "mediterranean-nutrition",
   "metadata": {},
   "outputs": [
    {
     "name": "stdout",
     "output_type": "stream",
     "text": [
      "[[-1.38007093]\n",
      " [ 0.59138693]]\n",
      "0.20722006307379384\n"
     ]
    }
   ],
   "source": [
    "model = Model(2)\n",
    "print(model.W)\n",
    "print(model.b)"
   ]
  },
  {
   "cell_type": "code",
   "execution_count": 15,
   "id": "electoral-potential",
   "metadata": {},
   "outputs": [],
   "source": [
    "#forward pass\n",
    "class Model(Model):\n",
    "    def forward_pass(self, X):\n",
    "        y_hat = self.b + np.dot(X, self.W)\n",
    "        return y_hat"
   ]
  },
  {
   "cell_type": "code",
   "execution_count": 16,
   "id": "patent-preference",
   "metadata": {},
   "outputs": [
    {
     "name": "stdout",
     "output_type": "stream",
     "text": [
      "(1000, 1)\n"
     ]
    }
   ],
   "source": [
    "y_hat = Model(2).forward_pass(X)\n",
    "print(y_hat.shape)"
   ]
  },
  {
   "cell_type": "code",
   "execution_count": 20,
   "id": "official-banks",
   "metadata": {},
   "outputs": [],
   "source": [
    "#compute loss\n",
    "class Model(Model):\n",
    "    def compute_loss(self, y_hat, y_true):\n",
    "        loss = np.sum(np.square(y_hat - y_true))/(2*y_true.shape[0])\n",
    "        return loss"
   ]
  },
  {
   "cell_type": "code",
   "execution_count": 21,
   "id": "incident-restoration",
   "metadata": {},
   "outputs": [],
   "source": [
    "model = Model(2)\n",
    "y_hat = model.forward_pass(X)\n",
    "loss = model.compute_loss(y_hat, y)"
   ]
  },
  {
   "cell_type": "code",
   "execution_count": 22,
   "id": "requested-partner",
   "metadata": {},
   "outputs": [
    {
     "data": {
      "text/plain": [
       "13.840944687934424"
      ]
     },
     "execution_count": 22,
     "metadata": {},
     "output_type": "execute_result"
    }
   ],
   "source": [
    "loss"
   ]
  },
  {
   "cell_type": "code",
   "execution_count": 23,
   "id": "innovative-providence",
   "metadata": {},
   "outputs": [],
   "source": [
    "#backward pass :\n",
    "class Model(Model):\n",
    "    def backward_pass(self, X, y_true, y_hat):\n",
    "        m = y_true.shape[0]\n",
    "        db = (1/m)*np.sum(y_hat - y_true)\n",
    "        dW = (1/m)*np.sum(np.dot(np.transpose(y_hat - y_true), X), axis = 0)\n",
    "        return dW, db"
   ]
  },
  {
   "cell_type": "code",
   "execution_count": 24,
   "id": "olympic-gilbert",
   "metadata": {},
   "outputs": [],
   "source": [
    "model = Model(2)\n",
    "\n",
    "X, y = generate_examples()\n",
    "\n",
    "y_hat = model.forward_pass(X)\n",
    "\n",
    "dW, db = model.backward_pass(X, y, y_hat)"
   ]
  },
  {
   "cell_type": "code",
   "execution_count": 25,
   "id": "rental-lying",
   "metadata": {},
   "outputs": [
    {
     "name": "stdout",
     "output_type": "stream",
     "text": [
      "[-0.90302445  3.22916408] -1.9601598464334087\n"
     ]
    }
   ],
   "source": [
    "print(dW, db)"
   ]
  },
  {
   "cell_type": "code",
   "execution_count": 26,
   "id": "demographic-arrangement",
   "metadata": {},
   "outputs": [],
   "source": [
    "#update parameters \n",
    "class Model(Model):\n",
    "    def update_params(self, dW, db, lr):\n",
    "        self.W = self.W - lr * np.reshape(dW, (self.num_features, 1))\n",
    "        self.b = self.b - lr*db"
   ]
  },
  {
   "cell_type": "code",
   "execution_count": 30,
   "id": "given-gentleman",
   "metadata": {},
   "outputs": [],
   "source": [
    "#training loop\n",
    "class Model(Model):\n",
    "    def train(self,  x_train, y_train, iterations, lr):\n",
    "        losses = []\n",
    "        for i in range(0, iterations):\n",
    "            y_hat = self.forward_pass(x_train)\n",
    "            loss = self.compute_loss(y_hat, y_train)\n",
    "            dW, db = self.backward_pass(x_train, y_train, y_hat)\n",
    "            self.update_params(dW, db, lr)\n",
    "            losses.append(loss)\n",
    "            if i%int(iterations/10) == 0 :\n",
    "                print('Iter : {} , Loss : {:.4f}'.format(i, loss))\n",
    "        return losses"
   ]
  },
  {
   "cell_type": "code",
   "execution_count": 31,
   "id": "offensive-biodiversity",
   "metadata": {},
   "outputs": [],
   "source": [
    "model = Model(2)"
   ]
  },
  {
   "cell_type": "code",
   "execution_count": 32,
   "id": "verified-ghost",
   "metadata": {},
   "outputs": [],
   "source": [
    "x_train, y_train = generate_examples()"
   ]
  },
  {
   "cell_type": "code",
   "execution_count": 34,
   "id": "confidential-chassis",
   "metadata": {},
   "outputs": [
    {
     "name": "stdout",
     "output_type": "stream",
     "text": [
      "Iter : 0 , Loss : 0.0389\n",
      "Iter : 100 , Loss : 0.0217\n",
      "Iter : 200 , Loss : 0.0122\n",
      "Iter : 300 , Loss : 0.0068\n",
      "Iter : 400 , Loss : 0.0038\n",
      "Iter : 500 , Loss : 0.0021\n",
      "Iter : 600 , Loss : 0.0012\n",
      "Iter : 700 , Loss : 0.0007\n",
      "Iter : 800 , Loss : 0.0004\n",
      "Iter : 900 , Loss : 0.0002\n",
      "Iter : 1000 , Loss : 0.0001\n"
     ]
    }
   ],
   "source": [
    "losses = model.train(x_train, y_train, 1001, 3e-3)"
   ]
  },
  {
   "cell_type": "code",
   "execution_count": 35,
   "id": "present-chase",
   "metadata": {},
   "outputs": [
    {
     "data": {
      "image/png": "[encoded data removed]",
      "text/plain": [
       "<Figure size 432x288 with 1 Axes>"
      ]
     },
     "metadata": {
      "needs_background": "light"
     },
     "output_type": "display_data"
    }
   ],
   "source": [
    "plt.plot(losses);"
   ]
  },
  {
   "cell_type": "code",
   "execution_count": 39,
   "id": "dangerous-indiana",
   "metadata": {},
   "outputs": [
    {
     "name": "stdout",
     "output_type": "stream",
     "text": [
      "(500, 2) (500, 1)\n"
     ]
    }
   ],
   "source": [
    "#predictions\n",
    "model_untrained = Model(2)\n",
    "\n",
    "x_test, y_test = generate_examples(500)\n",
    "print(x_test.shape, y_test.shape)"
   ]
  },
  {
   "cell_type": "code",
   "execution_count": 40,
   "id": "positive-rochester",
   "metadata": {},
   "outputs": [],
   "source": [
    "preds_untrained = model_untrained.forward_pass(x_test)\n",
    "preds_trained = model.forward_pass(x_test)"
   ]
  },
  {
   "cell_type": "code",
   "execution_count": 41,
   "id": "modern-gross",
   "metadata": {},
   "outputs": [
    {
     "data": {
      "image/png": "[encoded data removed]",
      "text/plain": [
       "<Figure size 432x432 with 1 Axes>"
      ]
     },
     "metadata": {
      "needs_background": "light"
     },
     "output_type": "display_data"
    }
   ],
   "source": [
    "plt.figure(figsize = (6,6))\n",
    "plt.plot(preds_untrained, y_test, 'rx', label = 'Untrained')\n",
    "plt.plot(preds_trained, y_test, 'b.', label = 'Trained')\n",
    "plt.legend()\n",
    "plt.xlabel('Predictions')\n",
    "plt.ylabel('Ground Truth')\n",
    "plt.show()"
   ]
  }
 ],
 "metadata": {
  "kernelspec": {
   "display_name": "Python 3",
   "language": "python",
   "name": "python3"
  },
  "language_info": {
   "codemirror_mode": {
    "name": "ipython",
    "version": 3
   },
   "file_extension": ".py",
   "mimetype": "text/x-python",
   "name": "python",
   "nbconvert_exporter": "python",
   "pygments_lexer": "ipython3",
   "version": "3.8.5"
  }
 },
 "nbformat": 4,
 "nbformat_minor": 5
}
